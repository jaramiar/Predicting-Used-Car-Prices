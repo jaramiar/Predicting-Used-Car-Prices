{
 "cells": [
  {
   "cell_type": "markdown",
   "id": "3249f63e-77c3-4793-8433-733450e77760",
   "metadata": {},
   "source": [
    "# Predicting Used Car Prices  \n",
    "## This notebook carries out the statistical analysis and assumption testing for the linear regression model, parts 3 and 4.\n",
    "Load in R libraries"
   ]
  },
  {
   "cell_type": "code",
   "execution_count": 1,
   "id": "bfe8eeb9-0970-4f78-b479-967709274d1c",
   "metadata": {
    "tags": []
   },
   "outputs": [
    {
     "name": "stderr",
     "output_type": "stream",
     "text": [
      "Loading required package: carData\n",
      "\n",
      "Loading required package: ggplot2\n",
      "\n",
      "Loading required package: lattice\n",
      "\n",
      "Loading required package: lme4\n",
      "\n",
      "Loading required package: Matrix\n",
      "\n",
      "Loading required package: nlme\n",
      "\n",
      "\n",
      "Attaching package: 'nlme'\n",
      "\n",
      "\n",
      "The following object is masked from 'package:lme4':\n",
      "\n",
      "    lmList\n",
      "\n",
      "\n",
      "Loading required package: lmeInfo\n",
      "\n",
      "Loading required package: parallel\n",
      "\n",
      "Loading required package: zoo\n",
      "\n",
      "\n",
      "Attaching package: 'zoo'\n",
      "\n",
      "\n",
      "The following objects are masked from 'package:base':\n",
      "\n",
      "    as.Date, as.Date.numeric\n",
      "\n",
      "\n",
      "corrplot 0.92 loaded\n",
      "\n",
      "\n",
      "Attaching package: 'olsrr'\n",
      "\n",
      "\n",
      "The following object is masked from 'package:datasets':\n",
      "\n",
      "    rivers\n",
      "\n",
      "\n",
      "── \u001b[1mAttaching packages\u001b[22m ─────────────────────────────────────────────────────────────────────────────── tidyverse 1.3.2 ──\n",
      "\u001b[32m✔\u001b[39m \u001b[34mtibble \u001b[39m 3.1.7     \u001b[32m✔\u001b[39m \u001b[34mdplyr  \u001b[39m 1.0.9\n",
      "\u001b[32m✔\u001b[39m \u001b[34mtidyr  \u001b[39m 1.2.0     \u001b[32m✔\u001b[39m \u001b[34mstringr\u001b[39m 1.4.0\n",
      "\u001b[32m✔\u001b[39m \u001b[34mpurrr  \u001b[39m 0.3.4     \u001b[32m✔\u001b[39m \u001b[34mforcats\u001b[39m 0.5.1\n",
      "── \u001b[1mConflicts\u001b[22m ────────────────────────────────────────────────────────────────────────────────── tidyverse_conflicts() ──\n",
      "\u001b[31m✖\u001b[39m \u001b[34mdplyr\u001b[39m::\u001b[32mcollapse()\u001b[39m masks \u001b[34mnlme\u001b[39m::collapse()\n",
      "\u001b[31m✖\u001b[39m \u001b[34mtidyr\u001b[39m::\u001b[32mexpand()\u001b[39m   masks \u001b[34mMatrix\u001b[39m::expand()\n",
      "\u001b[31m✖\u001b[39m \u001b[34mdplyr\u001b[39m::\u001b[32mfilter()\u001b[39m   masks \u001b[34mstats\u001b[39m::filter()\n",
      "\u001b[31m✖\u001b[39m \u001b[34mdplyr\u001b[39m::\u001b[32mlag()\u001b[39m      masks \u001b[34mstats\u001b[39m::lag()\n",
      "\u001b[31m✖\u001b[39m \u001b[34mpurrr\u001b[39m::\u001b[32mlift()\u001b[39m     masks \u001b[34mcaret\u001b[39m::lift()\n",
      "\u001b[31m✖\u001b[39m \u001b[34mtidyr\u001b[39m::\u001b[32mpack()\u001b[39m     masks \u001b[34mMatrix\u001b[39m::pack()\n",
      "\u001b[31m✖\u001b[39m \u001b[34mdplyr\u001b[39m::\u001b[32mrecode()\u001b[39m   masks \u001b[34mcar\u001b[39m::recode()\n",
      "\u001b[31m✖\u001b[39m \u001b[34mpurrr\u001b[39m::\u001b[32msome()\u001b[39m     masks \u001b[34mcar\u001b[39m::some()\n",
      "\u001b[31m✖\u001b[39m \u001b[34mtidyr\u001b[39m::\u001b[32munpack()\u001b[39m   masks \u001b[34mMatrix\u001b[39m::unpack()\n"
     ]
    }
   ],
   "source": [
    "library(\"car\")\n",
    "library(\"caret\")\n",
    "library(\"gvlma\")\n",
    "library(\"predictmeans\")\n",
    "library(\"e1071\")\n",
    "library(\"readr\")\n",
    "library(\"ggplot2\")\n",
    "library(\"reticulate\")\n",
    "library(\"lmtest\")\n",
    "library(\"corrplot\")\n",
    "library(\"olsrr\")\n",
    "library(\"tidyverse\")\n",
    "library(\"sandwich\")"
   ]
  },
  {
   "cell_type": "code",
   "execution_count": 2,
   "id": "2b063503-8801-4abd-917d-05086a12ec2a",
   "metadata": {},
   "outputs": [],
   "source": [
    "library(sandwich)\n"
   ]
  },
  {
   "cell_type": "markdown",
   "id": "e5150dde-6f69-46a8-a8c5-95b70cee4e9f",
   "metadata": {},
   "source": [
    "Load in Python libraries (used for visualizations)"
   ]
  },
  {
   "cell_type": "code",
   "execution_count": 3,
   "id": "f8a3059c-b115-4302-9b5c-1ff630b6caf2",
   "metadata": {
    "tags": []
   },
   "outputs": [],
   "source": [
    "# Load Python libraries\n",
    "sns <- import('seaborn')\n",
    "plt <- import('matplotlib.pyplot')\n",
    "pd <- import('pandas')"
   ]
  },
  {
   "cell_type": "code",
   "execution_count": 4,
   "id": "7210160f-f1ac-48ed-adc9-aadd59d9ea61",
   "metadata": {
    "tags": []
   },
   "outputs": [
    {
     "name": "stderr",
     "output_type": "stream",
     "text": [
      "\u001b[1m\u001b[22mNew names:\n",
      "\u001b[36m•\u001b[39m `` -> `...1`\n",
      "\u001b[1mRows: \u001b[22m\u001b[34m1841\u001b[39m \u001b[1mColumns: \u001b[22m\u001b[34m8\u001b[39m\n",
      "\u001b[36m──\u001b[39m \u001b[1mColumn specification\u001b[22m \u001b[36m────────────────────────────────────────────────────────────────────────────────────────────────\u001b[39m\n",
      "\u001b[1mDelimiter:\u001b[22m \",\"\n",
      "\u001b[31mchr\u001b[39m (3): Brand, Body, EngineType\n",
      "\u001b[32mdbl\u001b[39m (5): ...1, Mileage, EngineV, Year, PriceLog\n",
      "\n",
      "\u001b[36mℹ\u001b[39m Use `spec()` to retrieve the full column specification for this data.\n",
      "\u001b[36mℹ\u001b[39m Specify the column types or set `show_col_types = FALSE` to quiet this message.\n",
      "\u001b[1m\u001b[22mNew names:\n",
      "\u001b[36m•\u001b[39m `` -> `...1`\n",
      "\u001b[1mRows: \u001b[22m\u001b[34m2990\u001b[39m \u001b[1mColumns: \u001b[22m\u001b[34m5\u001b[39m\n",
      "\u001b[36m──\u001b[39m \u001b[1mColumn specification\u001b[22m \u001b[36m────────────────────────────────────────────────────────────────────────────────────────────────\u001b[39m\n",
      "\u001b[1mDelimiter:\u001b[22m \",\"\n",
      "\u001b[32mdbl\u001b[39m (5): ...1, PriceLog, Mileage, EngineV, Year\n",
      "\n",
      "\u001b[36mℹ\u001b[39m Use `spec()` to retrieve the full column specification for this data.\n",
      "\u001b[36mℹ\u001b[39m Specify the column types or set `show_col_types = FALSE` to quiet this message.\n",
      "\u001b[1m\u001b[22mNew names:\n",
      "\u001b[36m•\u001b[39m `` -> `...1`\n",
      "\u001b[1mRows: \u001b[22m\u001b[34m1841\u001b[39m \u001b[1mColumns: \u001b[22m\u001b[34m21\u001b[39m\n",
      "\u001b[36m──\u001b[39m \u001b[1mColumn specification\u001b[22m \u001b[36m────────────────────────────────────────────────────────────────────────────────────────────────\u001b[39m\n",
      "\u001b[1mDelimiter:\u001b[22m \",\"\n",
      "\u001b[31mchr\u001b[39m  (3): Brand, Body, EngineType\n",
      "\u001b[32mdbl\u001b[39m (18): ...1, Mileage, EngineV, Year, PriceLog, Audi, BMW, Mercedes-Benz, ...\n",
      "\n",
      "\u001b[36mℹ\u001b[39m Use `spec()` to retrieve the full column specification for this data.\n",
      "\u001b[36mℹ\u001b[39m Specify the column types or set `show_col_types = FALSE` to quiet this message.\n"
     ]
    }
   ],
   "source": [
    "# Import data\n",
    "cleaned_data <- read_csv(\"Cleaned_Data.csv\")\n",
    "quant_data1 <- read_csv(\"quant_data1.csv\")\n",
    "dummied_data <- read_csv(\"dummied_data.csv\")"
   ]
  },
  {
   "cell_type": "markdown",
   "id": "825f14dd-2191-495d-844b-8abe0961d5c7",
   "metadata": {},
   "source": [
    "# 3. Stepwise Regression via Backward Elimination\n",
    "As mentioned in the Python notebook, we need to determine whether to remove any variables that could impare the model. A stepwise regression test will take a look at our model's predicted performance using all the variables in the dataframe. Then, the test will eliminate one variable at a time, assess the model again, and determine whether the model will benefit from keeping the variable or improve by eliminating it. The test will repeat this process for each variable. This is called backward elimination. \n",
    "\n",
    "Our first step, then, is building the linear model. We will use 'PriceLog' as our response variable, and the rest of the columns as predictor variables. By the end of this test, we will know which predictors to keep and which to discard.\n",
    "\n",
    "### Build the preliminary model"
   ]
  },
  {
   "cell_type": "code",
   "execution_count": 5,
   "id": "22717145-a416-46ea-a8d5-9df9afd135a3",
   "metadata": {
    "tags": []
   },
   "outputs": [],
   "source": [
    "# Create a function called FitAll that creates a linear model of all our predictors:\n",
    "model = lm(PriceLog~.,data = dummied_data)"
   ]
  },
  {
   "cell_type": "markdown",
   "id": "ecac4e4b-784c-4169-8b25-74196c1187c2",
   "metadata": {
    "tags": []
   },
   "source": [
    "Here's the summary for that model:"
   ]
  },
  {
   "cell_type": "code",
   "execution_count": 6,
   "id": "be6ff9e7-0731-4a8d-b8b1-12adc66af75c",
   "metadata": {
    "tags": []
   },
   "outputs": [
    {
     "data": {
      "text/plain": [
       "\n",
       "Call:\n",
       "lm(formula = PriceLog ~ ., data = dummied_data)\n",
       "\n",
       "Residuals:\n",
       "     Min       1Q   Median       3Q      Max \n",
       "-1.77836 -0.14068  0.00698  0.15728  0.98228 \n",
       "\n",
       "Coefficients: (13 not defined because of singularities)\n",
       "                     Estimate Std. Error t value Pr(>|t|)    \n",
       "(Intercept)        -1.513e+02  3.638e+00 -41.602  < 2e-16 ***\n",
       "...1               -1.354e-06  4.993e-06  -0.271  0.78628    \n",
       "Mileage            -4.505e-04  1.081e-04  -4.168 3.22e-05 ***\n",
       "EngineV             2.640e-01  1.327e-02  19.901  < 2e-16 ***\n",
       "Year                8.007e-02  1.803e-03  44.407  < 2e-16 ***\n",
       "BrandBMW           -3.339e-03  3.163e-02  -0.106  0.91593    \n",
       "BrandMercedes-Benz -7.619e-02  2.843e-02  -2.680  0.00742 ** \n",
       "BrandMitsubishi    -4.198e-01  3.488e-02 -12.035  < 2e-16 ***\n",
       "BrandRenault       -5.524e-01  3.092e-02 -17.867  < 2e-16 ***\n",
       "BrandToyota        -1.219e-01  3.282e-02  -3.714  0.00021 ***\n",
       "BrandVolkswagen    -2.125e-01  2.845e-02  -7.471 1.23e-13 ***\n",
       "Bodyhatch          -3.137e-01  3.876e-02  -8.093 1.05e-15 ***\n",
       "Bodyother          -3.092e-01  2.731e-02 -11.322  < 2e-16 ***\n",
       "Bodysedan          -2.410e-01  2.216e-02 -10.875  < 2e-16 ***\n",
       "Bodyvagon          -2.719e-01  2.799e-02  -9.715  < 2e-16 ***\n",
       "Bodyvan            -4.217e-01  2.454e-02 -17.185  < 2e-16 ***\n",
       "EngineTypeGas      -1.369e-01  1.848e-02  -7.410 1.93e-13 ***\n",
       "EngineTypeOther    -7.435e-02  3.334e-02  -2.230  0.02585 *  \n",
       "Audi                       NA         NA      NA       NA    \n",
       "BMW                        NA         NA      NA       NA    \n",
       "`Mercedes-Benz`            NA         NA      NA       NA    \n",
       "Mitsubishi                 NA         NA      NA       NA    \n",
       "Renault                    NA         NA      NA       NA    \n",
       "Toyota                     NA         NA      NA       NA    \n",
       "crossover                  NA         NA      NA       NA    \n",
       "hatch                      NA         NA      NA       NA    \n",
       "other                      NA         NA      NA       NA    \n",
       "vagon                      NA         NA      NA       NA    \n",
       "van                        NA         NA      NA       NA    \n",
       "Gas                        NA         NA      NA       NA    \n",
       "Other                      NA         NA      NA       NA    \n",
       "---\n",
       "Signif. codes:  0 '***' 0.001 '**' 0.01 '*' 0.05 '.' 0.1 ' ' 1\n",
       "\n",
       "Residual standard error: 0.2669 on 1823 degrees of freedom\n",
       "Multiple R-squared:  0.7873,\tAdjusted R-squared:  0.7853 \n",
       "F-statistic:   397 on 17 and 1823 DF,  p-value: < 2.2e-16\n"
      ]
     },
     "metadata": {},
     "output_type": "display_data"
    }
   ],
   "source": [
    "summary(model)"
   ]
  },
  {
   "cell_type": "markdown",
   "id": "1f9e29e9-2f73-48f4-ad7e-e0ceb4500d9f",
   "metadata": {
    "tags": []
   },
   "source": [
    "-----------------------------------------------------------------------------------------------------------\n",
    "Above, if a variable has at least two asterisks, then it is a significant predictor of 'PriceLog'. From what we can tell, it looks like we have lots of great predictors and two not so great -- the BMW category from 'Brand' and the 'Other' category from 'EngineType'. Our overall accuracy sits at about 79%. This is a good first start. Our next step is finding out what combination of predictors yields the most accurate predictions.\n"
   ]
  },
  {
   "cell_type": "markdown",
   "id": "ca8191c6-9e64-4a44-8f45-67b9664d4bde",
   "metadata": {},
   "source": [
    "### Perform the backward elimination"
   ]
  },
  {
   "cell_type": "code",
   "execution_count": 7,
   "id": "32cceb17-341a-43a2-bc74-657153aa623c",
   "metadata": {
    "tags": []
   },
   "outputs": [
    {
     "name": "stdout",
     "output_type": "stream",
     "text": [
      "Start:  AIC=-4845.75\n",
      "PriceLog ~ ...1 + Mileage + EngineV + Year + Brand + Body + EngineType + \n",
      "    Audi + BMW + `Mercedes-Benz` + Mitsubishi + Renault + Toyota + \n",
      "    crossover + hatch + other + vagon + van + Gas + Other\n",
      "\n",
      "\n",
      "Step:  AIC=-4845.75\n",
      "PriceLog ~ ...1 + Mileage + EngineV + Year + Brand + Body + EngineType + \n",
      "    Audi + BMW + `Mercedes-Benz` + Mitsubishi + Renault + Toyota + \n",
      "    crossover + hatch + other + vagon + van + Gas\n",
      "\n",
      "\n",
      "Step:  AIC=-4845.75\n",
      "PriceLog ~ ...1 + Mileage + EngineV + Year + Brand + Body + EngineType + \n",
      "    Audi + BMW + `Mercedes-Benz` + Mitsubishi + Renault + Toyota + \n",
      "    crossover + hatch + other + vagon + van\n",
      "\n",
      "\n",
      "Step:  AIC=-4845.75\n",
      "PriceLog ~ ...1 + Mileage + EngineV + Year + Brand + Body + EngineType + \n",
      "    Audi + BMW + `Mercedes-Benz` + Mitsubishi + Renault + Toyota + \n",
      "    crossover + hatch + other + vagon\n",
      "\n",
      "\n",
      "Step:  AIC=-4845.75\n",
      "PriceLog ~ ...1 + Mileage + EngineV + Year + Brand + Body + EngineType + \n",
      "    Audi + BMW + `Mercedes-Benz` + Mitsubishi + Renault + Toyota + \n",
      "    crossover + hatch + other\n",
      "\n",
      "\n",
      "Step:  AIC=-4845.75\n",
      "PriceLog ~ ...1 + Mileage + EngineV + Year + Brand + Body + EngineType + \n",
      "    Audi + BMW + `Mercedes-Benz` + Mitsubishi + Renault + Toyota + \n",
      "    crossover + hatch\n",
      "\n",
      "\n",
      "Step:  AIC=-4845.75\n",
      "PriceLog ~ ...1 + Mileage + EngineV + Year + Brand + Body + EngineType + \n",
      "    Audi + BMW + `Mercedes-Benz` + Mitsubishi + Renault + Toyota + \n",
      "    crossover\n",
      "\n",
      "\n",
      "Step:  AIC=-4845.75\n",
      "PriceLog ~ ...1 + Mileage + EngineV + Year + Brand + Body + EngineType + \n",
      "    Audi + BMW + `Mercedes-Benz` + Mitsubishi + Renault + Toyota\n",
      "\n",
      "\n",
      "Step:  AIC=-4845.75\n",
      "PriceLog ~ ...1 + Mileage + EngineV + Year + Brand + Body + EngineType + \n",
      "    Audi + BMW + `Mercedes-Benz` + Mitsubishi + Renault\n",
      "\n",
      "\n",
      "Step:  AIC=-4845.75\n",
      "PriceLog ~ ...1 + Mileage + EngineV + Year + Brand + Body + EngineType + \n",
      "    Audi + BMW + `Mercedes-Benz` + Mitsubishi\n",
      "\n",
      "\n",
      "Step:  AIC=-4845.75\n",
      "PriceLog ~ ...1 + Mileage + EngineV + Year + Brand + Body + EngineType + \n",
      "    Audi + BMW + `Mercedes-Benz`\n",
      "\n",
      "\n",
      "Step:  AIC=-4845.75\n",
      "PriceLog ~ ...1 + Mileage + EngineV + Year + Brand + Body + EngineType + \n",
      "    Audi + BMW\n",
      "\n",
      "\n",
      "Step:  AIC=-4845.75\n",
      "PriceLog ~ ...1 + Mileage + EngineV + Year + Brand + Body + EngineType + \n",
      "    Audi\n",
      "\n",
      "\n",
      "Step:  AIC=-4845.75\n",
      "PriceLog ~ ...1 + Mileage + EngineV + Year + Brand + Body + EngineType\n",
      "\n",
      "             Df Sum of Sq    RSS     AIC\n",
      "- ...1        1     0.005 129.86 -4847.7\n",
      "<none>                    129.85 -4845.7\n",
      "- Mileage     1     1.237 131.09 -4830.3\n",
      "- EngineType  2     3.960 133.81 -4794.4\n",
      "- Body        5    21.428 151.28 -4574.6\n",
      "- EngineV     1    28.210 158.06 -4485.8\n",
      "- Brand       6    45.629 175.48 -4303.4\n",
      "- Year        1   140.461 270.31 -3497.9\n",
      "\n",
      "Step:  AIC=-4847.67\n",
      "PriceLog ~ Mileage + EngineV + Year + Brand + Body + EngineType\n",
      "\n",
      "             Df Sum of Sq    RSS     AIC\n",
      "<none>                    129.86 -4847.7\n",
      "- Mileage     1     1.237 131.09 -4832.2\n",
      "- EngineType  2     3.958 133.81 -4796.4\n",
      "- Body        5    21.435 151.29 -4576.4\n",
      "- EngineV     1    28.207 158.06 -4487.8\n",
      "- Brand       6    45.629 175.48 -4305.3\n",
      "- Year        1   140.510 270.37 -3499.6\n"
     ]
    },
    {
     "data": {
      "text/plain": [
       "\n",
       "Call:\n",
       "lm(formula = PriceLog ~ Mileage + EngineV + Year + Brand + Body + \n",
       "    EngineType, data = dummied_data)\n",
       "\n",
       "Coefficients:\n",
       "       (Intercept)             Mileage             EngineV                Year  \n",
       "        -1.514e+02          -4.504e-04           2.640e-01           8.008e-02  \n",
       "          BrandBMW  BrandMercedes-Benz     BrandMitsubishi        BrandRenault  \n",
       "        -3.674e-03          -7.639e-02          -4.199e-01          -5.526e-01  \n",
       "       BrandToyota     BrandVolkswagen           Bodyhatch           Bodyother  \n",
       "        -1.220e-01          -2.127e-01          -3.139e-01          -3.093e-01  \n",
       "         Bodysedan           Bodyvagon             Bodyvan       EngineTypeGas  \n",
       "        -2.410e-01          -2.720e-01          -4.218e-01          -1.369e-01  \n",
       "   EngineTypeOther  \n",
       "        -7.424e-02  \n"
      ]
     },
     "metadata": {},
     "output_type": "display_data"
    }
   ],
   "source": [
    "# Perform stepwise regression with the linear model, using backward elimination.\n",
    "step(model, direction = 'backward')"
   ]
  },
  {
   "cell_type": "markdown",
   "id": "ff7b4e76-b2a7-4c1f-8ab7-b44780615f6e",
   "metadata": {},
   "source": [
    "#### It looks like we'll keep all our variables. Having performed our elimination, our next step will be defining the recommended model. (It didn't really change.)"
   ]
  },
  {
   "cell_type": "code",
   "execution_count": 8,
   "id": "dfd796ba-148a-4144-8e3e-9c415c978577",
   "metadata": {
    "tags": []
   },
   "outputs": [
    {
     "data": {
      "text/plain": [
       "\n",
       "Call:\n",
       "lm(formula = PriceLog ~ Mileage + EngineV + Year + Brand + Body + \n",
       "    EngineType, data = dummied_data)\n",
       "\n",
       "Residuals:\n",
       "     Min       1Q   Median       3Q      Max \n",
       "-1.78065 -0.13985  0.00766  0.15825  0.98184 \n",
       "\n",
       "Coefficients:\n",
       "                     Estimate Std. Error t value Pr(>|t|)    \n",
       "(Intercept)        -1.514e+02  3.636e+00 -41.623  < 2e-16 ***\n",
       "Mileage            -4.504e-04  1.081e-04  -4.168 3.21e-05 ***\n",
       "EngineV             2.640e-01  1.326e-02  19.905  < 2e-16 ***\n",
       "Year                8.008e-02  1.803e-03  44.426  < 2e-16 ***\n",
       "BrandBMW           -3.674e-03  3.160e-02  -0.116 0.907438    \n",
       "BrandMercedes-Benz -7.639e-02  2.841e-02  -2.689 0.007233 ** \n",
       "BrandMitsubishi    -4.199e-01  3.487e-02 -12.040  < 2e-16 ***\n",
       "BrandRenault       -5.526e-01  3.090e-02 -17.884  < 2e-16 ***\n",
       "BrandToyota        -1.220e-01  3.281e-02  -3.719 0.000206 ***\n",
       "BrandVolkswagen    -2.127e-01  2.843e-02  -7.482 1.13e-13 ***\n",
       "Bodyhatch          -3.139e-01  3.874e-02  -8.102 9.77e-16 ***\n",
       "Bodyother          -3.093e-01  2.730e-02 -11.328  < 2e-16 ***\n",
       "Bodysedan          -2.410e-01  2.215e-02 -10.880  < 2e-16 ***\n",
       "Bodyvagon          -2.720e-01  2.798e-02  -9.719  < 2e-16 ***\n",
       "Bodyvan            -4.218e-01  2.453e-02 -17.192  < 2e-16 ***\n",
       "EngineTypeGas      -1.369e-01  1.847e-02  -7.410 1.92e-13 ***\n",
       "EngineTypeOther    -7.424e-02  3.332e-02  -2.228 0.026014 *  \n",
       "---\n",
       "Signif. codes:  0 '***' 0.001 '**' 0.01 '*' 0.05 '.' 0.1 ' ' 1\n",
       "\n",
       "Residual standard error: 0.2668 on 1824 degrees of freedom\n",
       "Multiple R-squared:  0.7873,\tAdjusted R-squared:  0.7854 \n",
       "F-statistic:   422 on 16 and 1824 DF,  p-value: < 2.2e-16\n"
      ]
     },
     "metadata": {},
     "output_type": "display_data"
    }
   ],
   "source": [
    "# Define the final linear model\n",
    "model1 = lm(PriceLog ~ Mileage + EngineV + Year + Brand + Body + EngineType, data = dummied_data)\n",
    "# Get its sumary\n",
    "summary(model1)"
   ]
  },
  {
   "cell_type": "markdown",
   "id": "bb9de7f2-b45a-45de-a240-386b8fe2b39d",
   "metadata": {
    "tags": []
   },
   "source": [
    "-------------------------------------------------------------------------------------------\n",
    "This is the same output we obtained when we made the model initially.\n",
    "\n",
    "##### Key Takeaways  \n",
    "- We will drop 'BMW' from the model.\n",
    "-  We can rely on this model to make accurate price estimates 79% of the time. \n",
    "- (The other 19% can be chalked up to fluctuations and random error.)\n",
    "----------------------------------------------------------------------------------------------"
   ]
  },
  {
   "cell_type": "code",
   "execution_count": 9,
   "id": "d404197d-c93d-4ac5-a860-c8df0cd46081",
   "metadata": {},
   "outputs": [
    {
     "data": {
      "text/plain": [
       "\n",
       "Call:\n",
       "lm(formula = PriceLog ~ Mileage + EngineV + Year + Brand + Body + \n",
       "    EngineType, data = dummied_data1)\n",
       "\n",
       "Residuals:\n",
       "     Min       1Q   Median       3Q      Max \n",
       "-1.78065 -0.13985  0.00766  0.15825  0.98184 \n",
       "\n",
       "Coefficients:\n",
       "                     Estimate Std. Error t value Pr(>|t|)    \n",
       "(Intercept)        -1.514e+02  3.636e+00 -41.623  < 2e-16 ***\n",
       "Mileage            -4.504e-04  1.081e-04  -4.168 3.21e-05 ***\n",
       "EngineV             2.640e-01  1.326e-02  19.905  < 2e-16 ***\n",
       "Year                8.008e-02  1.803e-03  44.426  < 2e-16 ***\n",
       "BrandBMW           -3.674e-03  3.160e-02  -0.116 0.907438    \n",
       "BrandMercedes-Benz -7.639e-02  2.841e-02  -2.689 0.007233 ** \n",
       "BrandMitsubishi    -4.199e-01  3.487e-02 -12.040  < 2e-16 ***\n",
       "BrandRenault       -5.526e-01  3.090e-02 -17.884  < 2e-16 ***\n",
       "BrandToyota        -1.220e-01  3.281e-02  -3.719 0.000206 ***\n",
       "BrandVolkswagen    -2.127e-01  2.843e-02  -7.482 1.13e-13 ***\n",
       "Bodyhatch          -3.139e-01  3.874e-02  -8.102 9.77e-16 ***\n",
       "Bodyother          -3.093e-01  2.730e-02 -11.328  < 2e-16 ***\n",
       "Bodysedan          -2.410e-01  2.215e-02 -10.880  < 2e-16 ***\n",
       "Bodyvagon          -2.720e-01  2.798e-02  -9.719  < 2e-16 ***\n",
       "Bodyvan            -4.218e-01  2.453e-02 -17.192  < 2e-16 ***\n",
       "EngineTypeGas      -1.369e-01  1.847e-02  -7.410 1.92e-13 ***\n",
       "EngineTypeOther    -7.424e-02  3.332e-02  -2.228 0.026014 *  \n",
       "---\n",
       "Signif. codes:  0 '***' 0.001 '**' 0.01 '*' 0.05 '.' 0.1 ' ' 1\n",
       "\n",
       "Residual standard error: 0.2668 on 1824 degrees of freedom\n",
       "Multiple R-squared:  0.7873,\tAdjusted R-squared:  0.7854 \n",
       "F-statistic:   422 on 16 and 1824 DF,  p-value: < 2.2e-16\n"
      ]
     },
     "metadata": {},
     "output_type": "display_data"
    }
   ],
   "source": [
    "dummied_data1 <- subset(dummied_data, select = c('Mileage','EngineV','Year','PriceLog','Brand','Body','EngineType','Audi','Mercedes-Benz','Mitsubishi','Renault','Toyota','crossover','hatch','other','vagon','van','Gas'))\n",
    "model2 <- lm(PriceLog ~ Mileage + EngineV + Year + Brand + Body + EngineType, data = dummied_data1)\n",
    "summary(model2)"
   ]
  },
  {
   "cell_type": "markdown",
   "id": "8111536b-247f-4890-aa8d-6877824e949a",
   "metadata": {
    "tags": []
   },
   "source": [
    "# 4. Assumptions for Linear Regression\n",
    "We'll need to ensure that our model meets the following criteria before we start training and testing its performance:\n",
    "1.\tLinearity\n",
    "    - The rate of change in price corresponds to the rates of change for everything else. (They form a straight line on a graph.)\n",
    "2. Normality - The range of values for each variable is more or less centered around the average value, with the majority falling in the middle and fewer at the sides; each variable forms a symmetric bell curve.\n",
    "3.\tEach variable has about the same random fluctations as the others. (Equal variance in the error terms.)\n",
    "    - Greater error in one will have a heavier weight on the model and will bias results.\n",
    "4.\tEverything was measured without error\n",
    "5.\tAll our variables (except Price) are independent of each other\n",
    "6.\tNo outliers\n",
    "    - Their presence can skew our model's predictions.\n",
    "\n",
    "### 1. Linearity\n",
    "\n",
    "We'll plot the data against each other to get a visual for their relationships and their distributions. We want to see straight groupings within the intersections of 'PriceLog' and the 'Mileage', 'EngineV', and 'Year' columns. Focus on the upper right diagonal of the grid (the lower left is a mirror).\n",
    "\n",
    "- Intersection of Price and Year\n",
    "    - Notice an upward trend from bottom left to top right\n",
    "    - More recent model years are associated with higher price values. So the newer the car, the more expensive it is.\n",
    "- Intersection of Mileage and Year\n",
    "    - Notice a downward trend from top left to bottom right.\n",
    "    - The more recent the model year, generally the lower the mileage. So, older cars tend to have higher mileages.\n",
    "- Intersection of Price and Mileage\n",
    "    - Notice another downward trend from top left to bottom right.\n",
    "    - As mileages increase, prices decrease. So, as a car's mileage racks up, its value goes down. \n",
    "- Intersection of Price and EngineV\n",
    "    - Notice a "
   ]
  },
  {
   "cell_type": "markdown",
   "id": "6d891885-40dd-4e7c-a3dd-e87e4c161a9d",
   "metadata": {
    "jupyter": {
     "outputs_hidden": true
    },
    "tags": []
   },
   "source": [
    "sns$pairplot(r_to_py(cleaned_data), hue = 'Body')\n",
    "plt$suptitle('')\n",
    "#display the plot\n",
    "plt$show()"
   ]
  },
  {
   "cell_type": "markdown",
   "id": "700076aa-c45a-4a44-8a5d-a4c55dc2c968",
   "metadata": {},
   "source": [
    "   \n",
    "##### Linearity\n",
    "\n",
    "There's a linear relationship between PriceLog and Year, and between PriceLog and Mileage. (Notice the dots group in a thick, diagonal line.)\n",
    "\n",
    "### 2. Normality\n",
    "\n",
    "Referring again to the grid above: Each of the histograms (running diagonally across the center) forms a rough bell curve, so all our variables are more or less normally distributed. \n",
    "\n",
    "### 3. Random fluctuations are the same throughout\n",
    "\n",
    "The model must be able to explain all fluctuations in our response variable. If it can't, then that would mean the model is unstable. We need to make sure that all fluctuations are accounted for.\n",
    "\n",
    "Look at the figures below and focus on the two charts on the left-hand side. For each, we'd like to see the points having about the same distance to the red line on either side, which they do. This indicates that erroRs in the model vary more or less the same across the board among the independent variables. Moreover, if the points form an obvious cone shape, then we'll know that the error terms deviate somehow. Luckily, all we have are amorphous blobs. (These plots refer to the residuals of our model.)\n"
   ]
  },
  {
   "cell_type": "code",
   "execution_count": 10,
   "id": "79e8b731-01db-4f76-beab-05d906107f55",
   "metadata": {
    "tags": []
   },
   "outputs": [
    {
     "data": {
      "image/png": "[encoded data removed]",
      "text/plain": [
       "Plot with title \"\""
      ]
     },
     "metadata": {
      "image/png": {
       "height": 420,
       "width": 420
      }
     },
     "output_type": "display_data"
    }
   ],
   "source": [
    "par(mfrow=c(2,2))\n",
    "plot(model2)"
   ]
  },
  {
   "cell_type": "markdown",
   "id": "022728d3-06a7-4a88-96cf-3eb283065c92",
   "metadata": {
    "tags": []
   },
   "source": [
    "### 4. None of the predictors influence each other (too much).\n",
    "This one may be tricky. It requires that all our predictor variables are independent of each other, such that they each make their own unique, mark on the predictions. Since we're looking at cars, we know that mileage and year often go hand in hand--older cars tend to have higher mileages. Let's take a look at the relationships between our variables to see if we can find any significant relationships. \n",
    "\n",
    "We will use three different methods to examine the model for multicolliniarity.\n",
    "\n",
    "##### Method 1. Correlations\n",
    "We can refer to a correlation matrix to see some the relationships:"
   ]
  },
  {
   "cell_type": "code",
   "execution_count": 11,
   "id": "0f62bcd5-214b-495e-b7bb-64ac6557521c",
   "metadata": {},
   "outputs": [],
   "source": [
    "corr_plot_data = quant_data1"
   ]
  },
  {
   "cell_type": "code",
   "execution_count": 12,
   "id": "a6eb291d-552b-471c-9aa9-3dbe93fdc871",
   "metadata": {},
   "outputs": [],
   "source": [
    "corrplot_data <- subset(quant_data1, select = -c(1))"
   ]
  },
  {
   "cell_type": "code",
   "execution_count": 13,
   "id": "421eba04-d11f-4b18-9127-314e45eddb25",
   "metadata": {},
   "outputs": [
    {
     "data": {
      "image/png": "[encoded data removed]",
      "text/plain": [
       "Plot with title \"Feature Correlation Matrix\""
      ]
     },
     "metadata": {
      "image/png": {
       "height": 420,
       "width": 420
      }
     },
     "output_type": "display_data"
    }
   ],
   "source": [
    "title <- 'Feature Correlation Matrix'\n",
    "corrplot(cor(corrplot_data), addCoef.col = 1,number.cex = 1.33, tl.cex = 1.5,type = \"upper\", tl.pos = 'td',cl.cex = 1.33, title = title, mar=c(0,0,1,0), )"
   ]
  },
  {
   "cell_type": "markdown",
   "id": "11c01519-fbb3-429e-9365-a4a6b120841c",
   "metadata": {
    "tags": []
   },
   "source": [
    "The above two plots provide the same information. On the left, that information is represented in circles with varying shades of color; the bigger and darker the circle, the higher the correlation. On the right, the same information is presented as numeric values ranging from -1 to 1; the closer to 1 (or -1) from 0, the higher the correlation. If we look at the intersection of Mileage and Year, we'll find a big, red circle indicating a strong relationship between them. The accompanying value for this relationship is 0.7, which is the highest on the graph. (Values of 1.00 indicate a variable's relationship with itself, which we ignore).\n",
    "\n",
    "The next highest correlation exists between PriceLog (i.e., Price) and Year, at 0.65.\n",
    "\n",
    "As a general rule, these relationships become an issue at 0.9 or higher and even then, their presence will not affect our predictions (just the coefficient of each predictor). Since our goal lies in building an accurate predictive model, this issue (called multicollinearity) probably won't be pose a problem. But to be safe, we will run additional tests on our regression model to determine its presence and decide whether it's something to address. \n",
    "\n",
    "The above plots are useful for conducting a visual seach for dependent relationships among the variables. Since we have many variables to worry about (all the different manufacturers, engine types, and body types), it is easier to run a couple of tests for a straightforward breakdown, rather than squint at a complex graph. \n",
    "\n",
    "##### Method 2. Variance Inflation Factor\n",
    "The Variance Inflation Factor (VIF) measures the inflation in the coefficient of the predictor variable due to the collinearities among the other predictors. A VIF of 1 means that the regression coefficient is not inflated by the presence of the other predictors, meaning no multicollinearity present.\n",
    "\n",
    "As a rule of thumb, a VIF of 5 or more indicates multicollinearity. Ideally, they are below 3.\n",
    "\n",
    "## Variance Inflation Factor"
   ]
  },
  {
   "cell_type": "code",
   "execution_count": 14,
   "id": "726d07ac-08e3-4b4a-b1f3-0a3e200109f5",
   "metadata": {
    "jupyter": {
     "source_hidden": true
    },
    "tags": []
   },
   "outputs": [
    {
     "data": {
      "text/html": [
       "<table class=\"dataframe\">\n",
       "<caption>A matrix: 6 × 3 of type dbl</caption>\n",
       "<thead>\n",
       "\t<tr><th></th><th scope=col>GVIF</th><th scope=col>Df</th><th scope=col>GVIF^(1/(2*Df))</th></tr>\n",
       "</thead>\n",
       "<tbody>\n",
       "\t<tr><th scope=row>Mileage</th><td>2.108220</td><td>1</td><td>1.451971</td></tr>\n",
       "\t<tr><th scope=row>EngineV</th><td>2.071881</td><td>1</td><td>1.439403</td></tr>\n",
       "\t<tr><th scope=row>Year</th><td>2.139162</td><td>1</td><td>1.462587</td></tr>\n",
       "\t<tr><th scope=row>Brand</th><td>3.332642</td><td>6</td><td>1.105518</td></tr>\n",
       "\t<tr><th scope=row>Body</th><td>2.934527</td><td>5</td><td>1.113663</td></tr>\n",
       "\t<tr><th scope=row>EngineType</th><td>1.738715</td><td>2</td><td>1.148305</td></tr>\n",
       "</tbody>\n",
       "</table>\n"
      ],
      "text/latex": [
       "A matrix: 6 × 3 of type dbl\n",
       "\\begin{tabular}{r|lll}\n",
       "  & GVIF & Df & GVIF\\textasciicircum{}(1/(2*Df))\\\\\n",
       "\\hline\n",
       "\tMileage & 2.108220 & 1 & 1.451971\\\\\n",
       "\tEngineV & 2.071881 & 1 & 1.439403\\\\\n",
       "\tYear & 2.139162 & 1 & 1.462587\\\\\n",
       "\tBrand & 3.332642 & 6 & 1.105518\\\\\n",
       "\tBody & 2.934527 & 5 & 1.113663\\\\\n",
       "\tEngineType & 1.738715 & 2 & 1.148305\\\\\n",
       "\\end{tabular}\n"
      ],
      "text/markdown": [
       "\n",
       "A matrix: 6 × 3 of type dbl\n",
       "\n",
       "| <!--/--> | GVIF | Df | GVIF^(1/(2*Df)) |\n",
       "|---|---|---|---|\n",
       "| Mileage | 2.108220 | 1 | 1.451971 |\n",
       "| EngineV | 2.071881 | 1 | 1.439403 |\n",
       "| Year | 2.139162 | 1 | 1.462587 |\n",
       "| Brand | 3.332642 | 6 | 1.105518 |\n",
       "| Body | 2.934527 | 5 | 1.113663 |\n",
       "| EngineType | 1.738715 | 2 | 1.148305 |\n",
       "\n"
      ],
      "text/plain": [
       "           GVIF     Df GVIF^(1/(2*Df))\n",
       "Mileage    2.108220 1  1.451971       \n",
       "EngineV    2.071881 1  1.439403       \n",
       "Year       2.139162 1  1.462587       \n",
       "Brand      3.332642 6  1.105518       \n",
       "Body       2.934527 5  1.113663       \n",
       "EngineType 1.738715 2  1.148305       "
      ]
     },
     "metadata": {},
     "output_type": "display_data"
    }
   ],
   "source": [
    "# Calculate VIF values for each predictor variable.\n",
    "vif(model1)"
   ]
  },
  {
   "cell_type": "markdown",
   "id": "19fc5393-f018-4ac3-af2b-dadf01d75381",
   "metadata": {
    "tags": []
   },
   "source": [
    "Looking under \"GVIF\", the three highest scores correspond to our categorical variables 'Brand', 'Body', and 'Engine Type' and indicate the presence of high intercorrelations. However, this is something to be expected for these predictors. The categories within a variable will naturally have high multicollinearity with each other--the proportion of one category will necessarily affect the proportions of the others. So, even though we found multicollinarity, in this instance we can safely ignore its presence and be secure in the knowledge that our model is unaffected."
   ]
  },
  {
   "cell_type": "markdown",
   "id": "e6f1e806-3407-4570-8104-a677038415f4",
   "metadata": {},
   "source": [
    "Looking under the Condition Number column, the only values higher than 10 are the bottom two rows. However, none of the corresponding variance values are greater than 0.5. So, this test confirms the findings from the first two.\n",
    "\n",
    "#### Conclusion\n",
    "There is NO multicollinearity present in the model.\n",
    "\n",
    "### 5. Screen for Outliers\n",
    "\n",
    "Lastly, we'll make one more search for outliers and remove any that we find.\n",
    "We'll narrow our focus by axis, starting with the x space and then moving to the y space. "
   ]
  },
  {
   "cell_type": "code",
   "execution_count": 15,
   "id": "59a936c6-d6ad-4856-83df-c00ce42b5151",
   "metadata": {
    "tags": []
   },
   "outputs": [
    {
     "data": {
      "image/png": "[encoded data removed]",
      "text/plain": [
       "plot without title"
      ]
     },
     "metadata": {
      "image/png": {
       "height": 420,
       "width": 420
      }
     },
     "output_type": "display_data"
    }
   ],
   "source": [
    "# screen leverage (extreme values) in the x space\n",
    "plot(hat(model.matrix(model2)))"
   ]
  },
  {
   "cell_type": "markdown",
   "id": "a76fce17-cacb-4b91-bfef-fe5b9949708f",
   "metadata": {},
   "source": [
    "An extreme value in the x space will have a leverage value greater than 0.2. The highest value in the graph above is less than 0.04, so we're more than clear of outliers in the x space.\n",
    "\n",
    "Next we'll screen for outliers in the y space with a test. Any value below 0.01 (under the 'Bonferroni p' column) constitutes an outlier and should be removed. "
   ]
  },
  {
   "cell_type": "code",
   "execution_count": 16,
   "id": "7da157d1-2735-42d4-9f8f-3f00fe49dc78",
   "metadata": {
    "tags": []
   },
   "outputs": [
    {
     "data": {
      "text/plain": [
       "      rstudent unadjusted p-value Bonferroni p\n",
       "1582 -6.802004         1.3942e-11   2.5668e-08\n",
       "1541 -5.852505         5.7286e-09   1.0546e-05\n",
       "1178 -5.484883         4.7158e-08   8.6818e-05\n",
       "1221 -5.086515         4.0221e-07   7.4046e-04\n",
       "601  -5.008428         6.0179e-07   1.1079e-03\n",
       "230  -4.899412         1.0463e-06   1.9262e-03\n",
       "427  -4.478875         7.9690e-06   1.4671e-02\n",
       "210  -4.452619         8.9969e-06   1.6563e-02"
      ]
     },
     "metadata": {},
     "output_type": "display_data"
    }
   ],
   "source": [
    "# Test in y space\n",
    "car::outlierTest(model2)"
   ]
  },
  {
   "cell_type": "markdown",
   "id": "bd92b9b7-019c-458d-bb73-41558cd1759f",
   "metadata": {},
   "source": [
    "Looks like we have outliers here, since the highest value is 2.7989e-03. So, we'll drop all the rows listed and redefine the regression model that we had built earlier with the new and improved dataset."
   ]
  },
  {
   "cell_type": "code",
   "execution_count": 17,
   "id": "19e52f43-2c79-4c6a-871e-adf8f63405fb",
   "metadata": {
    "tags": []
   },
   "outputs": [
    {
     "data": {
      "text/plain": [
       "\n",
       "Call:\n",
       "lm(formula = PriceLog ~ Mileage + EngineV + Year + Body + Brand + \n",
       "    EngineType, data = dummied_data2)\n",
       "\n",
       "Residuals:\n",
       "     Min       1Q   Median       3Q      Max \n",
       "-1.10894 -0.14628  0.00098  0.15351  0.97676 \n",
       "\n",
       "Coefficients:\n",
       "                     Estimate Std. Error t value Pr(>|t|)    \n",
       "(Intercept)        -1.477e+02  3.442e+00 -42.915  < 2e-16 ***\n",
       "Mileage            -5.290e-04  1.024e-04  -5.164 2.68e-07 ***\n",
       "EngineV             2.639e-01  1.249e-02  21.134  < 2e-16 ***\n",
       "Year                7.828e-02  1.706e-03  45.876  < 2e-16 ***\n",
       "Bodyhatch          -3.083e-01  3.656e-02  -8.433  < 2e-16 ***\n",
       "Bodyother          -3.136e-01  2.567e-02 -12.219  < 2e-16 ***\n",
       "Bodysedan          -2.416e-01  2.084e-02 -11.589  < 2e-16 ***\n",
       "Bodyvagon          -2.743e-01  2.631e-02 -10.423  < 2e-16 ***\n",
       "Bodyvan            -4.325e-01  2.306e-02 -18.756  < 2e-16 ***\n",
       "BrandBMW            4.225e-03  2.970e-02   0.142 0.886897    \n",
       "BrandMercedes-Benz -6.460e-02  2.671e-02  -2.418 0.015693 *  \n",
       "BrandMitsubishi    -3.911e-01  3.286e-02 -11.904  < 2e-16 ***\n",
       "BrandRenault       -5.469e-01  2.903e-02 -18.838  < 2e-16 ***\n",
       "BrandToyota        -1.157e-01  3.083e-02  -3.752 0.000181 ***\n",
       "BrandVolkswagen    -1.998e-01  2.673e-02  -7.476 1.19e-13 ***\n",
       "EngineTypeGas      -1.527e-01  1.745e-02  -8.753  < 2e-16 ***\n",
       "EngineTypeOther    -6.527e-02  3.149e-02  -2.073 0.038330 *  \n",
       "---\n",
       "Signif. codes:  0 '***' 0.001 '**' 0.01 '*' 0.05 '.' 0.1 ' ' 1\n",
       "\n",
       "Residual standard error: 0.2505 on 1816 degrees of freedom\n",
       "Multiple R-squared:  0.8068,\tAdjusted R-squared:  0.8051 \n",
       "F-statistic: 473.9 on 16 and 1816 DF,  p-value: < 2.2e-16\n"
      ]
     },
     "metadata": {},
     "output_type": "display_data"
    }
   ],
   "source": [
    "dummied_data2 <- dummied_data1 %>% filter(!row_number() %in% c(1582,1541,1178,1221,601,230,427,210))\n",
    "# redefine our regression model with the improved dataset\n",
    "final <- lm(PriceLog ~ Mileage + EngineV + Year + Body + Brand + EngineType, data = dummied_data2)\n",
    "# Get the summary\n",
    "summary(final)"
   ]
  },
  {
   "cell_type": "markdown",
   "id": "c991deaa-6beb-4c50-ae56-b17c5a42d6dd",
   "metadata": {},
   "source": [
    "-------------------------------------------------------------------------------------\n",
    "The dataset now meets the criteria for training and testing. We'll go back to our Python notebook to finalize the model's construction."
   ]
  },
  {
   "cell_type": "code",
   "execution_count": 18,
   "id": "b031ae17-eceb-4798-9740-a2deb7545992",
   "metadata": {
    "tags": []
   },
   "outputs": [],
   "source": [
    "# Create a new CSV file with the updated dataset\n",
    "write.csv(dummied_data2,\"dummied_data2.csv\", row.names = FALSE)"
   ]
  }
 ],
 "metadata": {
  "kernelspec": {
   "display_name": "R",
   "language": "R",
   "name": "ir"
  },
  "language_info": {
   "codemirror_mode": "r",
   "file_extension": ".r",
   "mimetype": "text/x-r-source",
   "name": "R",
   "pygments_lexer": "r",
   "version": "4.2.1"
  }
 },
 "nbformat": 4,
 "nbformat_minor": 5
}
